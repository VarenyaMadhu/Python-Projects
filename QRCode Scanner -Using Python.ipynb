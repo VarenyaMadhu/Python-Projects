{
 "cells": [
  {
   "cell_type": "code",
   "execution_count": 1,
   "id": "ff16fa37",
   "metadata": {},
   "outputs": [
    {
     "name": "stdout",
     "output_type": "stream",
     "text": [
      "Collecting qrcode\n",
      "  Downloading qrcode-7.3.1.tar.gz (43 kB)\n",
      "\u001b[2K     \u001b[90m━━━━━━━━━━━━━━━━━━━━━━━━━━━━━━━━━━━━━━━━\u001b[0m \u001b[32m43.5/43.5 kB\u001b[0m \u001b[31m1.2 MB/s\u001b[0m eta \u001b[36m0:00:00\u001b[0m\n",
      "\u001b[?25h  Preparing metadata (setup.py) ... \u001b[?25ldone\n",
      "\u001b[?25hBuilding wheels for collected packages: qrcode\n",
      "  Building wheel for qrcode (setup.py) ... \u001b[?25ldone\n",
      "\u001b[?25h  Created wheel for qrcode: filename=qrcode-7.3.1-py3-none-any.whl size=40385 sha256=495dfe58c43996af2434c3e8b27180da9ad66d1ba08bb4b2b174f739b12f6dfa\n",
      "  Stored in directory: /Users/varenya/Library/Caches/pip/wheels/93/54/16/55cec87f8d902ed84b94ab8fdb7e89ae1158c06e130bc83b03\n",
      "Successfully built qrcode\n",
      "Installing collected packages: qrcode\n",
      "Successfully installed qrcode-7.3.1\n",
      "Note: you may need to restart the kernel to use updated packages.\n"
     ]
    }
   ],
   "source": [
    "pip install qrcode\n",
    "pip install opencv-python"
   ]
  },
  {
   "cell_type": "code",
   "execution_count": 6,
   "id": "9207a7eb",
   "metadata": {},
   "outputs": [],
   "source": [
    "import qrcode\n",
    "import cv2"
   ]
  },
  {
   "cell_type": "code",
   "execution_count": 3,
   "id": "561a85d5",
   "metadata": {},
   "outputs": [],
   "source": [
    "image = qrcode.make('https://github.com/VarenyaMadhu')"
   ]
  },
  {
   "cell_type": "code",
   "execution_count": 4,
   "id": "2a59e74c",
   "metadata": {},
   "outputs": [],
   "source": [
    "image.save('Varenyagit.jpg')"
   ]
  },
  {
   "cell_type": "code",
   "execution_count": 8,
   "id": "637dab0a",
   "metadata": {},
   "outputs": [],
   "source": [
    "img= qrcode.make('Aanya went to school')"
   ]
  },
  {
   "cell_type": "code",
   "execution_count": 9,
   "id": "42b79762",
   "metadata": {},
   "outputs": [],
   "source": [
    "img.save('aanya.jpg')"
   ]
  },
  {
   "cell_type": "code",
   "execution_count": 5,
   "id": "0db58a6e",
   "metadata": {},
   "outputs": [
    {
     "name": "stdout",
     "output_type": "stream",
     "text": [
      "Collecting opencv-python\n",
      "  Downloading opencv_python-4.6.0.66-cp36-abi3-macosx_10_15_x86_64.whl (46.4 MB)\n",
      "\u001b[2K     \u001b[90m━━━━━━━━━━━━━━━━━━━━━━━━━━━━━━━━━━━━━━━━\u001b[0m \u001b[32m46.4/46.4 MB\u001b[0m \u001b[31m3.1 MB/s\u001b[0m eta \u001b[36m0:00:00\u001b[0m00:01\u001b[0m00:01\u001b[0m\n",
      "\u001b[?25hRequirement already satisfied: numpy>=1.17.3 in /Library/Frameworks/Python.framework/Versions/3.9/lib/python3.9/site-packages (from opencv-python) (1.22.4)\n",
      "Installing collected packages: opencv-python\n",
      "Successfully installed opencv-python-4.6.0.66\n",
      "Note: you may need to restart the kernel to use updated packages.\n"
     ]
    }
   ],
   "source": [
    "pip install opencv-python"
   ]
  },
  {
   "cell_type": "code",
   "execution_count": 10,
   "id": "335a37ac",
   "metadata": {},
   "outputs": [],
   "source": [
    "d = cv2.QRCodeDetector()"
   ]
  },
  {
   "cell_type": "code",
   "execution_count": 11,
   "id": "a695d362",
   "metadata": {},
   "outputs": [],
   "source": [
    "retval, points, straight_qrcode  = d.detectAndDecode(cv2.imread('Aanya.JPG'))"
   ]
  },
  {
   "cell_type": "code",
   "execution_count": 12,
   "id": "754fe94a",
   "metadata": {},
   "outputs": [
    {
     "name": "stdout",
     "output_type": "stream",
     "text": [
      "Aanya went to school\n"
     ]
    }
   ],
   "source": [
    "print(retval)"
   ]
  },
  {
   "cell_type": "code",
   "execution_count": null,
   "id": "97fdffcb",
   "metadata": {},
   "outputs": [],
   "source": []
  }
 ],
 "metadata": {
  "kernelspec": {
   "display_name": "Python 3 (ipykernel)",
   "language": "python",
   "name": "python3"
  },
  "language_info": {
   "codemirror_mode": {
    "name": "ipython",
    "version": 3
   },
   "file_extension": ".py",
   "mimetype": "text/x-python",
   "name": "python",
   "nbconvert_exporter": "python",
   "pygments_lexer": "ipython3",
   "version": "3.9.1"
  }
 },
 "nbformat": 4,
 "nbformat_minor": 5
}
